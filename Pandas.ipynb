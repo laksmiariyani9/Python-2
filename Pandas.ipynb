{
 "cells": [
  {
   "cell_type": "markdown",
   "id": "0ac93619-737f-4aec-9360-d41210b1177e",
   "metadata": {},
   "source": [
    "## Pandas\n",
    "- Pandas is a powerful and popular open-source data manipulation and analysis library for Python. It provides fast, flexible, and expressive data structures designed to make working with structured (tabular, multidimensional, potentially heterogeneous) and time series data easy and intuitive. Pandas is built on top of NumPy and is often used in conjunction with it.\n",
    "  - Here are some key features and functionalities of Pandas:\n",
    "    - DataFrame: The DataFrame is the primary data structure in Pandas. It is a two-dimensional labeled data structure with columns that can be of different types (numeric, string, boolean, etc.). Think of it like a spreadsheet or SQL table.\n",
    "    - Series: A Series is a one-dimensional labeled array capable of holding data of any type. It can be thought of as a single column of data from a DataFrame.\n",
    "    - Data Alignment: Pandas automatically aligns data based on label when performing operations, making it easy to work with incomplete or differently indexed data.\n",
    "    - Handling Missing Data: Pandas provides functionalities to easily handle missing data, represented as NaN (Not a Number).\n",
    "    - Data Cleaning: Pandas offers a plethora of functions for data cleaning tasks like removing duplicates, replacing values, and filtering rows or columns based on conditions.\n",
    "    - Grouping and Aggregation: Pandas allows for easy grouping of data using groupby operations and supports various aggregation methods like sum, mean, count, etc.\n",
    "    - Time Series: Pandas has robust support for time series data, including date range generation, shifting, lagging, and resampling.\n",
    "    - IO Tools: Pandas provides tools to read and write data from and to various file formats like CSV, Excel, SQL databases, and more."
   ]
  },
  {
   "cell_type": "markdown",
   "id": "88864848-c7bd-4c93-8204-7d7d5275ffed",
   "metadata": {},
   "source": [
    "Here's a simple example to demonstrate how Pandas can be used:"
   ]
  },
  {
   "cell_type": "code",
   "execution_count": 1,
   "id": "5c277ee4-973e-4dc3-b8ad-a42962b1c07a",
   "metadata": {},
   "outputs": [
    {
     "name": "stdout",
     "output_type": "stream",
     "text": [
      "      Name  Age         City\n",
      "0    Alice   25     New York\n",
      "1      Bob   30  Los Angeles\n",
      "2  Charlie   35      Chicago\n",
      "3    David   40       Boston\n"
     ]
    }
   ],
   "source": [
    "import pandas as pd\n",
    "\n",
    "# Create a DataFrame\n",
    "data = {\n",
    "    'Name': ['Alice', 'Bob', 'Charlie', 'David'],\n",
    "    'Age': [25, 30, 35, 40],\n",
    "    'City': ['New York', 'Los Angeles', 'Chicago', 'Boston']\n",
    "}\n",
    "df = pd.DataFrame(data)\n",
    "\n",
    "# Display the DataFrame\n",
    "print(df)"
   ]
  }
 ],
 "metadata": {
  "kernelspec": {
   "display_name": "Python 3 (ipykernel)",
   "language": "python",
   "name": "python3"
  },
  "language_info": {
   "codemirror_mode": {
    "name": "ipython",
    "version": 3
   },
   "file_extension": ".py",
   "mimetype": "text/x-python",
   "name": "python",
   "nbconvert_exporter": "python",
   "pygments_lexer": "ipython3",
   "version": "3.11.7"
  }
 },
 "nbformat": 4,
 "nbformat_minor": 5
}
