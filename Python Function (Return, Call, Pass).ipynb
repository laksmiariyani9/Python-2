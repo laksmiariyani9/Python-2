{
 "cells": [
  {
   "cell_type": "markdown",
   "id": "354fdf08-c864-45da-9f07-4c4f83ca7f09",
   "metadata": {},
   "source": [
    "# Python Function\n",
    "  - In Python, a function is a block of code that performs a specific task and can be reused multiple times throughout your program. Functions can take inputs (arguments), perform operations on them, and return outputs. They help in making the code more organized, modular, and reusable.\n",
    "  - Components of a Function\n",
    "      - Function Definition: This is where you define the function using the def keyword, followed by the function name and parentheses containing any arguments.\n",
    "      - Function Body: This is the block of code inside the function where the actual task is performed.\n",
    "      - Return Statement: If the function needs to send back a result, it uses the return statement to return the value."
   ]
  },
  {
   "cell_type": "markdown",
   "id": "82744f4c-8719-4c88-8dcb-f79bf8ec2919",
   "metadata": {},
   "source": [
    "Example of a Function\n",
    "- Let's define a simple function that calculates the square of a number."
   ]
  },
  {
   "cell_type": "code",
   "execution_count": 1,
   "id": "76eb3ef3-68c3-4e0d-8d5c-cba67dcb186c",
   "metadata": {},
   "outputs": [],
   "source": [
    "def square(number):\n",
    "          \"\"\"This function calculates the square of a number.\"\"\"\n",
    "          result = number * number\n",
    "          return result"
   ]
  },
  {
   "cell_type": "markdown",
   "id": "1752440b-2a0c-4f70-8bcd-8158de8b4789",
   "metadata": {},
   "source": [
    "- def square(number): This line defines a function named square that takes one argument number.\n",
    "- \"\"\"This function calculates the square of a number.\"\"\": This is a docstring (documentation string) that provides a brief description of what the function does.\n",
    "- result = number * number: This line calculates the square of the number passed to the function and stores it in the result variable.\n",
    "- return result: This line returns the calculated square value."
   ]
  },
  {
   "cell_type": "markdown",
   "id": "3934bca2-0123-4624-9000-3b6f5950ef55",
   "metadata": {},
   "source": [
    "Calling the Function\n",
    "- After defining the function, you can call it by its name and pass an argument to it."
   ]
  },
  {
   "cell_type": "code",
   "execution_count": 2,
   "id": "735c8b86-bcaa-4d5e-b0aa-1e62cb9502b9",
   "metadata": {},
   "outputs": [
    {
     "ename": "IndentationError",
     "evalue": "unexpected indent (3090559030.py, line 2)",
     "output_type": "error",
     "traceback": [
      "\u001b[1;36m  Cell \u001b[1;32mIn[2], line 2\u001b[1;36m\u001b[0m\n\u001b[1;33m    result = square(5)\u001b[0m\n\u001b[1;37m    ^\u001b[0m\n\u001b[1;31mIndentationError\u001b[0m\u001b[1;31m:\u001b[0m unexpected indent\n"
     ]
    }
   ],
   "source": [
    "# Call the square function and pass an argument\n",
    "      result = square(5)\n",
    "      print(result)"
   ]
  },
  {
   "cell_type": "markdown",
   "id": "5f548f35-2512-41db-8969-8cbdfc8b2c0f",
   "metadata": {},
   "source": [
    "Here's the complete code:"
   ]
  },
  {
   "cell_type": "code",
   "execution_count": null,
   "id": "98714900-4388-48c6-8b5e-996721ebbea9",
   "metadata": {},
   "outputs": [],
   "source": [
    "def square(number):\n",
    "          \"\"\"This function calculates the square of a number.\"\"\"\n",
    "          result = number * number\n",
    "          return result\n",
    "\n",
    "# Call the square function and pass an argument\n",
    "result = square(5)\n",
    "print(result)"
   ]
  },
  {
   "cell_type": "markdown",
   "id": "548d2d44-14e3-4b22-a289-50234a733527",
   "metadata": {},
   "source": [
    "- In this example:\n",
    "  - We defined a function named square that calculates the square of a number.\n",
    "  - We called the square function with an argument 5, which returned the square of 5, and then printed the result."
   ]
  },
  {
   "cell_type": "markdown",
   "id": "8f2eedfe-4d9f-48ed-a747-da683fbffc90",
   "metadata": {},
   "source": [
    "#### Return\n",
    "- It returns a value from the function. Example:"
   ]
  },
  {
   "cell_type": "code",
   "execution_count": null,
   "id": "e003a4d9-edc0-40db-9911-e80bbbb77340",
   "metadata": {},
   "outputs": [],
   "source": [
    "def add(a, b):\n",
    "    return a + b"
   ]
  },
  {
   "cell_type": "markdown",
   "id": "0b965a21-bbfc-484c-888e-7bcd7aca1dc3",
   "metadata": {},
   "source": [
    "#### Call\n",
    "- Invoking the function by its name. Example:"
   ]
  },
  {
   "cell_type": "code",
   "execution_count": null,
   "id": "18f00481-ebee-4c77-ae4b-9b0b569cee59",
   "metadata": {},
   "outputs": [],
   "source": [
    "result = add(5, 3)"
   ]
  },
  {
   "cell_type": "markdown",
   "id": "0a64ea28-70ee-41c7-8597-d6fedbeb81bb",
   "metadata": {},
   "source": [
    "#### Pass\n",
    "- Placeholder for future implementation. Example:"
   ]
  },
  {
   "cell_type": "code",
   "execution_count": null,
   "id": "e54c2c89-6050-4654-8a45-118be62be679",
   "metadata": {},
   "outputs": [],
   "source": [
    "def placeholder():\n",
    "          pass"
   ]
  }
 ],
 "metadata": {
  "kernelspec": {
   "display_name": "Python 3 (ipykernel)",
   "language": "python",
   "name": "python3"
  },
  "language_info": {
   "codemirror_mode": {
    "name": "ipython",
    "version": 3
   },
   "file_extension": ".py",
   "mimetype": "text/x-python",
   "name": "python",
   "nbconvert_exporter": "python",
   "pygments_lexer": "ipython3",
   "version": "3.11.7"
  }
 },
 "nbformat": 4,
 "nbformat_minor": 5
}
