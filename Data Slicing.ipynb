{
 "cells": [
  {
   "cell_type": "markdown",
   "id": "74eadb3e-7a02-4c36-97d9-03317f4db156",
   "metadata": {},
   "source": [
    "# Data Slicing\n",
    "  - Data slicing in Python refers to the process of extracting a portion or subset of data from a larger data structure, such as a list, tuple, string, or more commonly, a NumPy array or a Pandas DataFrame/Series. Slicing allows you to access specific elements or ranges of elements from the data structure."
   ]
  },
  {
   "cell_type": "markdown",
   "id": "e99f0392-e885-4a51-a92f-28d8fd1a992d",
   "metadata": {},
   "source": [
    "#### Slicing in Python Lists, Tuples, and Strings\n",
    "- For Python lists, tuples, and strings, slicing is done using the syntax start:stop:step, where:\n",
    "    - start: The starting index of the slice (inclusive).\n",
    "    - stop: The ending index of the slice (exclusive).\n",
    "    - step: The step or stride between elements."
   ]
  },
  {
   "cell_type": "code",
   "execution_count": null,
   "id": "02d132a3-262a-4723-a4bc-9b52ae80d2b1",
   "metadata": {},
   "outputs": [],
   "source": [
    "# Slicing a list\n",
    "my_list = [0, 1, 2, 3, 4, 5]\n",
    "print(my_list[1:4])  # [1, 2, 3]\n",
    "\n",
    "# Slicing a string\n",
    "my_string = \"hello world\"\n",
    "print(my_string[1:5])  # 'ello'\n",
    "\n",
    "# Slicing with step\n",
    "print(my_list[::2])  # [0, 2, 4]"
   ]
  },
  {
   "cell_type": "markdown",
   "id": "1cb93708-64e6-4793-ac45-fd561b3c90f7",
   "metadata": {},
   "source": [
    "#### Slicing in NumPy Arrays\n",
    "  - For NumPy arrays, slicing works similarly to Python lists but can be done for multi-dimensional arrays as well."
   ]
  },
  {
   "cell_type": "code",
   "execution_count": null,
   "id": "dfe99e88-bc35-4844-a8f3-49f565ab24de",
   "metadata": {},
   "outputs": [],
   "source": [
    "import numpy as np\n",
    "\n",
    "# Create a NumPy array\n",
    "arr = np.array([0, 1, 2, 3, 4, 5])\n",
    "\n",
    "# Slicing a 1-dimensional array\n",
    "print(arr[1:4])  # [1 2 3]\n",
    "\n",
    "# Slicing a 2-dimensional array\n",
    "arr_2d = np.array([[1, 2, 3], [4, 5, 6], [7, 8, 9]])\n",
    "print(arr_2d[1:, :2])\n",
    "# [[4 5]\n",
    "#  [7 8]]"
   ]
  },
  {
   "cell_type": "markdown",
   "id": "3cf176c1-1983-4408-937b-d79abc4dce1d",
   "metadata": {},
   "source": [
    "#### Slicing in Pandas DataFrame/Series\n",
    "  - For Pandas DataFrame and Series, slicing can be done based on index labels or integer index positions using .loc[] and .iloc[] methods."
   ]
  },
  {
   "cell_type": "code",
   "execution_count": null,
   "id": "5f609f90-1e61-4c72-8b69-70e1c60a53c5",
   "metadata": {},
   "outputs": [],
   "source": [
    "import pandas as pd\n",
    "\n",
    "# Create a Pandas DataFrame\n",
    "df = pd.DataFrame({\n",
    "    'A': [1, 2, 3, 4],\n",
    "    'B': [5, 6, 7, 8],\n",
    "    'C': [9, 10, 11, 12]\n",
    "}, index=['a', 'b', 'c', 'd'])\n",
    "\n",
    "# Slicing rows and columns using .loc[]\n",
    "print(df.loc['b':'c', 'A':'B'])\n",
    "#    A  B\n",
    "# b  2  6\n",
    "# c  3  7\n",
    "\n",
    "# Slicing rows and columns using .iloc[]\n",
    "print(df.iloc[1:3, 0:2])\n",
    "#    A  B\n",
    "# b  2  6\n",
    "# c  3  7"
   ]
  }
 ],
 "metadata": {
  "kernelspec": {
   "display_name": "Python 3 (ipykernel)",
   "language": "python",
   "name": "python3"
  },
  "language_info": {
   "codemirror_mode": {
    "name": "ipython",
    "version": 3
   },
   "file_extension": ".py",
   "mimetype": "text/x-python",
   "name": "python",
   "nbconvert_exporter": "python",
   "pygments_lexer": "ipython3",
   "version": "3.11.7"
  }
 },
 "nbformat": 4,
 "nbformat_minor": 5
}
