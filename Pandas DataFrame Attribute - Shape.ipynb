{
 "cells": [
  {
   "cell_type": "markdown",
   "id": "6a3f25a8-9e05-4572-8727-d60e5848097c",
   "metadata": {},
   "source": [
    "# Shape\r\n",
    "The shape attribute returns a tuple representing the dimensions of the DataFrame. The first element of the tuple is the number of rows, and the second element is the number of columns Shape provides the dimensions of the DataFrame (number of rows, number of columns).."
   ]
  },
  {
   "cell_type": "code",
   "execution_count": null,
   "id": "d7004c19-288d-406a-af88-64a509323d2b",
   "metadata": {},
   "outputs": [],
   "source": [
    "import pandas as pd\n",
    "\n",
    "# Create a DataFrame\n",
    "df = pd.DataFrame({\n",
    "    'A': [1, 2, 3],\n",
    "    'B': ['a', 'b', 'c']\n",
    "})\n",
    "\n",
    "# Get the shape of the DataFrame\n",
    "print(df.shape)  # Output: (3, 2)"
   ]
  }
 ],
 "metadata": {
  "kernelspec": {
   "display_name": "Python 3 (ipykernel)",
   "language": "python",
   "name": "python3"
  },
  "language_info": {
   "codemirror_mode": {
    "name": "ipython",
    "version": 3
   },
   "file_extension": ".py",
   "mimetype": "text/x-python",
   "name": "python",
   "nbconvert_exporter": "python",
   "pygments_lexer": "ipython3",
   "version": "3.11.7"
  }
 },
 "nbformat": 4,
 "nbformat_minor": 5
}
