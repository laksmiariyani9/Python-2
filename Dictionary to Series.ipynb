{
 "cells": [
  {
   "cell_type": "markdown",
   "id": "69f1d52f-3c2a-4264-8fd7-30b539649147",
   "metadata": {},
   "source": [
    "## Dictionary to Series\n",
    "  - In Pandas, converting a Python dictionary to a Series is a common operation. A Series is a one-dimensional labeled array capable of holding data of any type (integer, string, float, etc.). When you convert a dictionary to a Series, the keys of the dictionary become the index labels of the Series, and the values of the dictionary become the data elements in the Series.\n",
    "  - Key Points\n",
    "    - The keys of the dictionary become the index labels of the Series.\n",
    "    - The values of the dictionary become the data elements in the Series.\n",
    "    - If the custom index specified does not match with the keys in the dictionary, the corresponding values in the Series will be NaN."
   ]
  },
  {
   "cell_type": "markdown",
   "id": "bffccd6d-02c1-470b-9432-5bde37ff9c65",
   "metadata": {},
   "source": [
    "#### Converting Dictionary to Series\n",
    "  - You can convert a dictionary to a Series using the pd.Series() constructor in Pandas.\n",
    "  - Here's the general syntax:"
   ]
  },
  {
   "cell_type": "code",
   "execution_count": null,
   "id": "8ae8114e-ad77-438f-be09-40dd02f88224",
   "metadata": {},
   "outputs": [],
   "source": [
    "import pandas as pd\n",
    "\n",
    "# Create a dictionary\n",
    "data = {'a': 1, 'b': 2, 'c': 3, 'd': 4}\n",
    "\n",
    "# Convert dictionary to Series\n",
    "series = pd.Series(data)\n",
    "\n",
    "print(series)"
   ]
  },
  {
   "cell_type": "markdown",
   "id": "9579f97e-36b0-4ab3-8489-57de9bcd4242",
   "metadata": {},
   "source": [
    "#### Converting with Custom Index\n",
    "  - You can also specify a custom index while converting a dictionary to a Series by passing the index as a separate argument."
   ]
  },
  {
   "cell_type": "code",
   "execution_count": null,
   "id": "69db4272-7189-497d-9e43-0b3486c00aa1",
   "metadata": {},
   "outputs": [],
   "source": [
    "import pandas as pd\n",
    "\n",
    "# Create a dictionary\n",
    "data = {'a': 1, 'b': 2, 'c': 3, 'd': 4}\n",
    "\n",
    "# Specify custom index\n",
    "index = ['x', 'y', 'z', 'w']\n",
    "\n",
    "# Convert dictionary to Series with custom index\n",
    "series = pd.Series(data, index=index)\n",
    "\n",
    "print(series)"
   ]
  },
  {
   "cell_type": "markdown",
   "id": "f75af08a-b769-442e-9a4b-34ffe2535c6e",
   "metadata": {},
   "source": [
    "- In this example, the keys in the dictionary ('a', 'b', 'c', 'd') do not match with the custom index ('x', 'y', 'z', 'w'). As a result, the values in the Series are NaN (Not a Number) for the indices where there is no corresponding key in the dictionary."
   ]
  }
 ],
 "metadata": {
  "kernelspec": {
   "display_name": "Python 3 (ipykernel)",
   "language": "python",
   "name": "python3"
  },
  "language_info": {
   "codemirror_mode": {
    "name": "ipython",
    "version": 3
   },
   "file_extension": ".py",
   "mimetype": "text/x-python",
   "name": "python",
   "nbconvert_exporter": "python",
   "pygments_lexer": "ipython3",
   "version": "3.11.7"
  }
 },
 "nbformat": 4,
 "nbformat_minor": 5
}
