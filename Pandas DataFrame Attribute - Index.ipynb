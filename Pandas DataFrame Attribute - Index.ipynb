{
 "cells": [
  {
   "cell_type": "markdown",
   "id": "0ef47429-cc45-4ec7-a68d-8bf649e768b4",
   "metadata": {},
   "source": [
    "# Index\r\n",
    "The index attribute returns the index (row labels) of the DataFrame. Depending on how the DataFrame was created, the index can be a range of integers, custom labels, or even datetime objects Index returns the row labels of the DataFrame.."
   ]
  },
  {
   "cell_type": "code",
   "execution_count": null,
   "id": "104248b1-9100-4530-9c7d-5e1ff554aac5",
   "metadata": {},
   "outputs": [],
   "source": [
    "import pandas as pd\n",
    "\n",
    "# Create a DataFrame\n",
    "df = pd.DataFrame({\n",
    "    'A': [1, 2, 3],\n",
    "    'B': ['a', 'b', 'c']\n",
    "})\n",
    "\n",
    "# Get the index of the DataFrame\n",
    "print(df.index)  # Output: RangeIndex(start=0, stop=3, step=1)"
   ]
  }
 ],
 "metadata": {
  "kernelspec": {
   "display_name": "Python 3 (ipykernel)",
   "language": "python",
   "name": "python3"
  },
  "language_info": {
   "codemirror_mode": {
    "name": "ipython",
    "version": 3
   },
   "file_extension": ".py",
   "mimetype": "text/x-python",
   "name": "python",
   "nbconvert_exporter": "python",
   "pygments_lexer": "ipython3",
   "version": "3.11.7"
  }
 },
 "nbformat": 4,
 "nbformat_minor": 5
}
