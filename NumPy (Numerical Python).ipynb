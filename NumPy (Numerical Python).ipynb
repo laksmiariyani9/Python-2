{
 "cells": [
  {
   "cell_type": "markdown",
   "id": "0fb88461-da9d-4709-8cde-e0374b921f95",
   "metadata": {},
   "source": [
    "## NumPy (Numerical Python)\n",
    "- NumPy (Numerical Python) is a fundamental package for scientific computing in Python. It provides support for large, multi-dimensional arrays and matrices, along with a collection of mathematical functions to operate on these arrays efficiently.\n",
    "  - Here are some key features and functionalities of NumPy:\n",
    "    - Arrays: NumPy provides an array object that is similar to Python lists but allows for more efficient storage and manipulation of data. These arrays can be one-dimensional, two-dimensional, or multi-dimensional.\n",
    "    - Mathematical Functions: NumPy offers a wide range of mathematical functions that can operate element-wise on arrays, including trigonometric, logarithmic, exponential, and statistical functions.\n",
    "    - Linear Algebra: NumPy has built-in functions for linear algebra operations like matrix multiplication, inversion, determinant calculation, eigenvalues, and eigenvectors.\n",
    "    - Random Number Generation: NumPy includes functions to generate random numbers from various probability distributions.\n",
    "    - Broadcasting: NumPy allows for broadcasting, which is a powerful feature that enables operations between arrays of different shapes and sizes.\n",
    "    - Integration with C/C++ and Fortran: Many of NumPy's functions are implemented in C/C++ or Fortran, which allows for efficient computation."
   ]
  },
  {
   "cell_type": "markdown",
   "id": "1fc6d125-9803-4d60-a0da-7a11a7591512",
   "metadata": {},
   "source": [
    "Here's a simple example to demonstrate how NumPy can be used:"
   ]
  },
  {
   "cell_type": "code",
   "execution_count": null,
   "id": "01bdef34-1a30-4e5e-aa04-55acf315fd9e",
   "metadata": {},
   "outputs": [],
   "source": [
    "import numpy as np\n",
    "\n",
    "# Create a 1-dimensional array\n",
    "arr1 = np.array([1, 2, 3, 4, 5])\n",
    "\n",
    "# Create a 2-dimensional array\n",
    "arr2 = np.array([[1, 2, 3], [4, 5, 6], [7, 8, 9]])\n",
    "\n",
    "# Perform element-wise operations\n",
    "print(arr1 * 2)  # [ 2  4  6  8 10]\n",
    "print(arr2 + 1)  # [[ 2  3  4]\n",
    "                 #  [ 5  6  7]\n",
    "                 #  [ 8  9 10]]\n",
    "\n",
    "# Compute the mean of an array\n",
    "print(np.mean(arr1))  # 3.0\n",
    "\n",
    "# Matrix multiplication\n",
    "arr3 = np.array([[1, 2], [3, 4]])\n",
    "arr4 = np.array([[2, 0], [1, 3]])\n",
    "result = np.dot(arr3, arr4)\n",
    "print(result)  # [[ 4  6]\n",
    "               #  [10 12]]"
   ]
  }
 ],
 "metadata": {
  "kernelspec": {
   "display_name": "Python 3 (ipykernel)",
   "language": "python",
   "name": "python3"
  },
  "language_info": {
   "codemirror_mode": {
    "name": "ipython",
    "version": 3
   },
   "file_extension": ".py",
   "mimetype": "text/x-python",
   "name": "python",
   "nbconvert_exporter": "python",
   "pygments_lexer": "ipython3",
   "version": "3.11.7"
  }
 },
 "nbformat": 4,
 "nbformat_minor": 5
}
