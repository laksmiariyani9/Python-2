{
 "cells": [
  {
   "cell_type": "markdown",
   "id": "22b499ca-98e0-4324-b90b-18fd9b7c7c35",
   "metadata": {},
   "source": [
    "## Loc & iloc\n",
    "- In Pandas, loc and iloc are two primary methods used for indexing and slicing data in a DataFrame or Series. They are powerful tools for selecting specific rows and columns based on labels or integer index positions, respectively.\n",
    "- Key Differences:\n",
    "    - loc uses labels for indexing, while iloc uses integer index positions.\n",
    "    - With loc, the range specified is inclusive of both the start and stop indices, while with iloc, the range is inclusive of the start index but exclusive of the stop index.\n",
    "    - loc allows for selecting both rows and columns using labels, whereas iloc allows for selecting both rows and columns using integer index positions."
   ]
  },
  {
   "cell_type": "markdown",
   "id": "00115cd4-1a9d-4059-a29b-5923ae2f6cc0",
   "metadata": {},
   "source": [
    "#### loc\n",
    "  - The loc indexer is primarily label-based, which means that you use the actual index labels (row labels and column names) to make selections. The syntax for using loc is:"
   ]
  },
  {
   "cell_type": "code",
   "execution_count": null,
   "id": "78df6e27-061b-42d7-9316-43956d5bbb29",
   "metadata": {},
   "outputs": [],
   "source": [
    "df.loc[row_label, column_label]"
   ]
  },
  {
   "cell_type": "markdown",
   "id": "8387da81-71a4-4b6e-acaf-0790fb0f3600",
   "metadata": {},
   "source": [
    "- In this syntax:\n",
    "    - row_label: Label or list of labels for rows.\n",
    "    - column_label: Label or list of labels for columns."
   ]
  },
  {
   "cell_type": "markdown",
   "id": "66311cb2-cc39-4f4a-901f-71620d2ca1d9",
   "metadata": {},
   "source": [
    "Examples:"
   ]
  },
  {
   "cell_type": "code",
   "execution_count": null,
   "id": "5aa20ff2-0b07-48ab-8a66-2b9dfea18201",
   "metadata": {},
   "outputs": [],
   "source": [
    "import pandas as pd\n",
    "\n",
    "# Create a DataFrame\n",
    "df = pd.DataFrame({\n",
    "    'A': [1, 2, 3],\n",
    "    'B': [4, 5, 6],\n",
    "    'C': [7, 8, 9]\n",
    "}, index=['x', 'y', 'z'])\n",
    "\n",
    "# Selecting a single row by label\n",
    "print(df.loc['y'])\n",
    "# A    2\n",
    "# B    5\n",
    "# C    8\n",
    "# Name: y, dtype: int64\n",
    "\n",
    "# Selecting multiple rows by label\n",
    "print(df.loc[['x', 'z']])\n",
    "#    A  B  C\n",
    "# x  1  4  7\n",
    "# z  3  6  9\n",
    "\n",
    "# Selecting a single row and column by label\n",
    "print(df.loc['y', 'B'])  # 5\n",
    "\n",
    "# Selecting multiple rows and columns by label\n",
    "print(df.loc[['x', 'z'], ['A', 'C']])\n",
    "#    A  C\n",
    "# x  1  7\n",
    "# z  3  9"
   ]
  },
  {
   "cell_type": "markdown",
   "id": "dc15da48-9d3f-4677-ada5-a439b4ce472f",
   "metadata": {},
   "source": [
    "#### iloc\n",
    "  - The iloc indexer is integer-location based, which means that you use integer index positions to make selections. The syntax for using iloc is:"
   ]
  },
  {
   "cell_type": "code",
   "execution_count": null,
   "id": "328d5c32-f6df-49dc-9b66-a8efda7893e3",
   "metadata": {},
   "outputs": [],
   "source": [
    "df.iloc[row_index, column_index]"
   ]
  },
  {
   "cell_type": "markdown",
   "id": "27bdea79-f849-47a5-af47-a0e4a727fad3",
   "metadata": {},
   "source": [
    "- In this syntax:\n",
    "    - row_index: Integer index or list of integer indices for rows.\n",
    "    - column_index: Integer index or list of integer indices for columns."
   ]
  },
  {
   "cell_type": "markdown",
   "id": "9504537e-7cc6-4a25-b115-097a58392648",
   "metadata": {},
   "source": [
    "Examples:"
   ]
  },
  {
   "cell_type": "code",
   "execution_count": null,
   "id": "6038b933-6e53-499c-a546-bf1547d18256",
   "metadata": {},
   "outputs": [],
   "source": [
    "import pandas as pd\n",
    "\n",
    "# Create a DataFrame\n",
    "df = pd.DataFrame({\n",
    "    'A': [1, 2, 3],\n",
    "    'B': [4, 5, 6],\n",
    "    'C': [7, 8, 9]\n",
    "})\n",
    "\n",
    "# Selecting a single row by integer index\n",
    "print(df.iloc[1])\n",
    "# A    2\n",
    "# B    5\n",
    "# C    8\n",
    "# Name: 1, dtype: int64\n",
    "\n",
    "# Selecting multiple rows by integer index\n",
    "print(df.iloc[[0, 2]])\n",
    "#    A  B  C\n",
    "# 0  1  4  7\n",
    "# 2  3  6  9\n",
    "\n",
    "# Selecting a single row and column by integer index\n",
    "print(df.iloc[1, 1])  # 5\n",
    "\n",
    "# Selecting multiple rows and columns by integer index\n",
    "print(df.iloc[[0, 2], [0, 2]])\n",
    "#    A  C\n",
    "# 0  1  7\n",
    "# 2  3  9"
   ]
  }
 ],
 "metadata": {
  "kernelspec": {
   "display_name": "Python 3 (ipykernel)",
   "language": "python",
   "name": "python3"
  },
  "language_info": {
   "codemirror_mode": {
    "name": "ipython",
    "version": 3
   },
   "file_extension": ".py",
   "mimetype": "text/x-python",
   "name": "python",
   "nbconvert_exporter": "python",
   "pygments_lexer": "ipython3",
   "version": "3.11.7"
  }
 },
 "nbformat": 4,
 "nbformat_minor": 5
}
