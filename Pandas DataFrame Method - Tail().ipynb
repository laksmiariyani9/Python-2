{
 "cells": [
  {
   "cell_type": "markdown",
   "id": "fa54f42d-53d4-40c0-8d23-8bbe713d9beb",
   "metadata": {},
   "source": [
    "# 'tail(n)'\n",
    "The tail() method is used to view the last n rows of a DataFrame. If n is not specified, it defaults to 5."
   ]
  },
  {
   "cell_type": "code",
   "execution_count": null,
   "id": "d345f242-0bed-4781-a1f0-93996ff934f5",
   "metadata": {},
   "outputs": [],
   "source": [
    "import pandas as pd\n",
    "\n",
    "# Create a DataFrame\n",
    "df = pd.DataFrame({\n",
    "    'A': [1, 2, 3, 4, 5],\n",
    "    'B': ['a', 'b', 'c', 'd', 'e']\n",
    "})\n",
    "\n",
    "# Display the last 2 rows\n",
    "print(df.tail(2))"
   ]
  }
 ],
 "metadata": {
  "kernelspec": {
   "display_name": "Python 3 (ipykernel)",
   "language": "python",
   "name": "python3"
  },
  "language_info": {
   "codemirror_mode": {
    "name": "ipython",
    "version": 3
   },
   "file_extension": ".py",
   "mimetype": "text/x-python",
   "name": "python",
   "nbconvert_exporter": "python",
   "pygments_lexer": "ipython3",
   "version": "3.11.7"
  }
 },
 "nbformat": 4,
 "nbformat_minor": 5
}
