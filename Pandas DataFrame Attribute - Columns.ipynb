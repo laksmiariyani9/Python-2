{
 "cells": [
  {
   "cell_type": "markdown",
   "id": "f682ab06-ec08-4e99-ae68-ea215f466ab7",
   "metadata": {},
   "source": [
    "# Columns\n",
    "The columns attribute returns the column labels of the DataFrame. It is an Index object containing the column names. Columns returns the column labels of the DataFrame."
   ]
  },
  {
   "cell_type": "code",
   "execution_count": null,
   "id": "df1ba654-a9ce-4574-80d1-746e0bc22467",
   "metadata": {},
   "outputs": [],
   "source": [
    "import pandas as pd\n",
    "\n",
    "# Create a DataFrame\n",
    "df = pd.DataFrame({\n",
    "    'A': [1, 2, 3],\n",
    "    'B': ['a', 'b', 'c']\n",
    "})\n",
    "\n",
    "# Get the columns of the DataFrame\n",
    "print(df.columns)  # Output: Index(['A', 'B'], dtype='object')"
   ]
  }
 ],
 "metadata": {
  "kernelspec": {
   "display_name": "Python 3 (ipykernel)",
   "language": "python",
   "name": "python3"
  },
  "language_info": {
   "codemirror_mode": {
    "name": "ipython",
    "version": 3
   },
   "file_extension": ".py",
   "mimetype": "text/x-python",
   "name": "python",
   "nbconvert_exporter": "python",
   "pygments_lexer": "ipython3",
   "version": "3.11.7"
  }
 },
 "nbformat": 4,
 "nbformat_minor": 5
}
