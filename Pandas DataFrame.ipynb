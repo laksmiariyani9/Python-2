{
 "cells": [
  {
   "cell_type": "markdown",
   "id": "5e097b55-5625-4a5e-a20b-434a80986deb",
   "metadata": {},
   "source": [
    "# Pandas DataFrame\n",
    "  - In Pandas, a DataFrame is a two-dimensional labeled data structure, similar to a spreadsheet or a SQL table. It consists of rows and columns, where each column can be of a different data type (numeric, string, boolean, etc.). The DataFrame is one of the most widely used data structures in Pandas and is extremely flexible and powerful for data manipulation and analysis tasks.\n",
    "  - Key Features of DataFrame\n",
    "      - Columns: Each column in a DataFrame is a Series, which can be of a different data type.\n",
    "      - Index: DataFrame has an index that labels the rows. The index can be either integers (default) or labels (e.g., dates, strings).\n",
    "      - Heterogeneous Data Types: Each column can have a different data type.\n",
    "      - Size Mutability: You can easily add or remove columns from a DataFrame.\n",
    "      - Data Alignment: Automatically aligns data based on labels, making it easy to work with incomplete or differently indexed data.\n",
    "      - Missing Data Handling: Built-in methods to handle missing data (represented as NaN or None).\n",
    "  - Creating a DataFrame\n",
    "    - You can create a DataFrame from various data structures like lists, dictionaries, NumPy arrays, or another DataFrame."
   ]
  },
  {
   "cell_type": "markdown",
   "id": "a89b4059-ad74-40f9-9d27-dc9c534b9eca",
   "metadata": {},
   "source": [
    "From a Dictionary:"
   ]
  },
  {
   "cell_type": "code",
   "execution_count": null,
   "id": "2f84c489-48ee-4ac1-9020-aac62757a671",
   "metadata": {},
   "outputs": [],
   "source": [
    "import pandas as pd\n",
    "\n",
    "# Create a dictionary\n",
    "data = {\n",
    "    'Name': ['Alice', 'Bob', 'Charlie'],\n",
    "    'Age': [25, 30, 35],\n",
    "    'City': ['New York', 'Los Angeles', 'Chicago']\n",
    "}\n",
    "\n",
    "# Convert dictionary to DataFrame\n",
    "df = pd.DataFrame(data)\n",
    "\n",
    "print(df)"
   ]
  },
  {
   "cell_type": "markdown",
   "id": "1053e5f6-26f0-470d-8141-6328c3f8d8fb",
   "metadata": {},
   "source": [
    "From a List of Lists:"
   ]
  },
  {
   "cell_type": "code",
   "execution_count": null,
   "id": "840246e5-84ca-4cb1-a561-e0ccf76887c5",
   "metadata": {},
   "outputs": [],
   "source": [
    "import pandas as pd\n",
    "\n",
    "# Create a dictionary\n",
    "data = {\n",
    "    'Name': ['Alice', 'Bob', 'Charlie'],\n",
    "    'Age': [25, 30, 35],\n",
    "    'City': ['New York', 'Los Angeles', 'Chicago']\n",
    "}\n",
    "\n",
    "# Convert dictionary to DataFrame\n",
    "df = pd.DataFrame(data)\n",
    "\n",
    "print(df)"
   ]
  },
  {
   "cell_type": "markdown",
   "id": "b3b16041-ec5f-4863-ae46-f21ea2384caa",
   "metadata": {},
   "source": [
    "#### DataFrame Attributes and Methods\n",
    "  - Attributes:\n",
    "    - df.shape: Returns a tuple representing the dimensions of the DataFrame (rows, columns).\n",
    "    - df.index: Returns the index (row labels) of the DataFrame.\n",
    "    - df.columns: Returns the column labels of the DataFrame.\n",
    "    - df.values: Returns a 2D NumPy array representing the data in the DataFrame.\n",
    "  - Methods:\n",
    "    - df.head(n): Returns the first n rows of the DataFrame.\n",
    "    - df.tail(n): Returns the last n rows of the DataFrame.\n",
    "    - df.info(): Provides a concise summary of the DataFrame, including data types and non-null values.\n",
    "    - df.describe(): Generates descriptive statistics (count, mean, std deviation, etc.) for numeric columns.\n",
    "    - df.drop(labels, axis): Drops specified labels from rows or columns.\n",
    "    - df.groupby(by): Groups data based on one or more columns.\n",
    "    - df.merge(right): Merges two DataFrames based on a common column."
   ]
  },
  {
   "cell_type": "markdown",
   "id": "67d94d09-82e2-41fa-b164-195405dd0d4b",
   "metadata": {},
   "source": [
    "Conclusion\n",
    "- A DataFrame in Pandas is a powerful data structure that offers a wide range of functionalities for data manipulation, analysis, and visualization. Whether you're working with data from CSV files, SQL databases, or other sources, the DataFrame provides a flexible and intuitive way to handle structured data in Python.\n"
   ]
  }
 ],
 "metadata": {
  "kernelspec": {
   "display_name": "Python 3 (ipykernel)",
   "language": "python",
   "name": "python3"
  },
  "language_info": {
   "codemirror_mode": {
    "name": "ipython",
    "version": 3
   },
   "file_extension": ".py",
   "mimetype": "text/x-python",
   "name": "python",
   "nbconvert_exporter": "python",
   "pygments_lexer": "ipython3",
   "version": "3.11.7"
  }
 },
 "nbformat": 4,
 "nbformat_minor": 5
}
