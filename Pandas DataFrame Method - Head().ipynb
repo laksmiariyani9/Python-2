{
 "cells": [
  {
   "cell_type": "markdown",
   "id": "5071032f-0e75-483e-9bfd-463e2fc5d70f",
   "metadata": {},
   "source": [
    "# 'head(n)'\n",
    "The head() method is used to view the first n rows of a DataFrame. If n is not specified, it defaults to 5.."
   ]
  },
  {
   "cell_type": "code",
   "execution_count": null,
   "id": "d1638666-98ea-4ba0-8a30-11bb91782dc2",
   "metadata": {},
   "outputs": [],
   "source": [
    "import pandas as pd\n",
    "\n",
    "# Create a DataFrame\n",
    "df = pd.DataFrame({\n",
    "    'A': [1, 2, 3, 4, 5],\n",
    "    'B': ['a', 'b', 'c', 'd', 'e']\n",
    "})\n",
    "\n",
    "# Display the first 3 rows\n",
    "print(df.head(3))"
   ]
  }
 ],
 "metadata": {
  "kernelspec": {
   "display_name": "Python 3 (ipykernel)",
   "language": "python",
   "name": "python3"
  },
  "language_info": {
   "codemirror_mode": {
    "name": "ipython",
    "version": 3
   },
   "file_extension": ".py",
   "mimetype": "text/x-python",
   "name": "python",
   "nbconvert_exporter": "python",
   "pygments_lexer": "ipython3",
   "version": "3.11.7"
  }
 },
 "nbformat": 4,
 "nbformat_minor": 5
}
